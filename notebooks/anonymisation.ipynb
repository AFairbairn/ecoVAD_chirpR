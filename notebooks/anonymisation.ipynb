{
 "cells": [
  {
   "cell_type": "code",
   "execution_count": 1,
   "metadata": {},
   "outputs": [],
   "source": [
    "%load_ext autoreload\n",
    "%autoreload 2"
   ]
  },
  {
   "cell_type": "markdown",
   "metadata": {},
   "source": [
    "# Import config file and set the path\n",
    "\n",
    "In this notebook we have to manually set path as `./notebooks` is a subfolder "
   ]
  },
  {
   "cell_type": "code",
   "execution_count": 2,
   "metadata": {},
   "outputs": [],
   "source": [
    "import glob\n",
    "import os\n",
    "import soundfile\n",
    "\n",
    "import yaml\n",
    "from yaml import FullLoader\n",
    "\n",
    "# Open the config file\n",
    "with open(\"../config_inference.yaml\") as f:\n",
    "    cfg = yaml.load(f, Loader=FullLoader)"
   ]
  },
  {
   "cell_type": "code",
   "execution_count": 16,
   "metadata": {},
   "outputs": [],
   "source": [
    "path_input_data = \"../assets/demo_data/data_to_anonymised\"\n",
    "path_json_detections = \"../assets/demo_data/detections/json/\"\n",
    "ecovad_weights_path = \"../assets/model_weights/ecoVAD_ckpt.pt\"\n",
    "path_anonymised_data = \"../assets/demo_data/anonymised_data\""
   ]
  },
  {
   "cell_type": "code",
   "execution_count": 4,
   "metadata": {},
   "outputs": [
    {
     "name": "stdout",
     "output_type": "stream",
     "text": [
      "Found 6 files to analyze\n"
     ]
    }
   ],
   "source": [
    "# List the folder with files that needs predictions\n",
    "types = ('/**/*.WAV', '/**/*.wav', '/**/*.mp3') # the tuple of file types\n",
    "audiofiles= []\n",
    "for files in types:\n",
    "    audiofiles.extend(glob.glob(path_input_data + files, recursive=True))\n",
    "\n",
    "print(\"Found {} files to analyze\".format(len(audiofiles)))"
   ]
  },
  {
   "cell_type": "markdown",
   "metadata": {},
   "source": [
    "# Demo on using the different VAD algorithms\n",
    "\n",
    "In this first section we demonstrate how to use the VAD algorithms to detect human speech in soundscapes. We standardized the output of the VAD models so that a `.json` file is created for each input file. The demo output can be found in `./assets/demo_data/detections/json`"
   ]
  },
  {
   "cell_type": "markdown",
   "metadata": {},
   "source": [
    "### Predict with Pyannote\n",
    "\n",
    "Pyannote brings good performance overall even though it returns more false positive on environmental soundscape. "
   ]
  },
  {
   "cell_type": "code",
   "execution_count": 5,
   "metadata": {},
   "outputs": [
    {
     "name": "stderr",
     "output_type": "stream",
     "text": [
      "/usr/local/lib/python3.8/site-packages/tqdm/auto.py:22: TqdmWarning: IProgress not found. Please update jupyter and ipywidgets. See https://ipywidgets.readthedocs.io/en/stable/user_install.html\n",
      "  from .autonotebook import tqdm as notebook_tqdm\n",
      "Downloading: 100%|██████████| 277/277 [00:00<00:00, 192kB/s]\n",
      "Downloading: 100%|██████████| 17.7M/17.7M [00:00<00:00, 62.1MB/s]\n",
      "Downloading: 100%|██████████| 1.98k/1.98k [00:00<00:00, 1.18MB/s]\n"
     ]
    }
   ],
   "source": [
    "from pyannote.audio import Pipeline\n",
    "from VAD_algorithms.pyannote.pyannote_predict import PyannotePredict\n",
    "\n",
    "# Load the pyannote model\n",
    "pipeline = Pipeline.from_pretrained(\"pyannote/voice-activity-detection\")\n",
    "\n",
    "# Make the prediction\n",
    "for audiofile in audiofiles:\n",
    "    out_name = audiofile.split('/')[-1].split('.')[0]\n",
    "    out_path = os.sep.join([path_json_detections, \"pyannote\",  out_name])\n",
    "    PyannotePredict(pipeline, audiofile, out_path).main()"
   ]
  },
  {
   "cell_type": "markdown",
   "metadata": {},
   "source": [
    "### Predict with ecoVAD\n",
    "\n",
    "ecoVAD does best on environmental soundscapes but might return more false positive on urban soundcape"
   ]
  },
  {
   "cell_type": "code",
   "execution_count": 6,
   "metadata": {},
   "outputs": [],
   "source": [
    "from VAD_algorithms.ecovad.ecoVAD_predict import ecoVADpredict\n",
    "\n",
    "for audiofile in audiofiles:\n",
    "    out_name = audiofile.split('/')[-1].split('.')[0]\n",
    "    out_path = os.sep.join([path_json_detections,  \"ecoVAD\", out_name])\n",
    "\n",
    "    ecoVADpredict(audiofile, \n",
    "                out_path,\n",
    "                ecovad_weights_path,\n",
    "                cfg[\"THRESHOLD\"],\n",
    "                cfg[\"USE_GPU\"]).main()"
   ]
  },
  {
   "cell_type": "markdown",
   "metadata": {},
   "source": [
    "### Predict with webrtcVAD\n",
    "\n",
    "Webrtc VAD does not perform as well as pyannote or ecoVAD but is able to do predictions very fast."
   ]
  },
  {
   "cell_type": "code",
   "execution_count": 7,
   "metadata": {},
   "outputs": [],
   "source": [
    "from VAD_algorithms.webrtcvad.webrtc_predict import WebrtcvadPredict\n",
    "\n",
    "for audiofile in audiofiles:\n",
    "    out_name = audiofile.split('/')[-1].split('.')[0]\n",
    "    out_path = os.sep.join([path_json_detections,  \"webrtcVAD\", out_name])\n",
    "\n",
    "    WebrtcvadPredict(audiofile, \n",
    "                    out_path,\n",
    "                    cfg[\"FRAME_LENGTH\"],\n",
    "                    cfg[\"AGGRESSIVENESS\"]).main()"
   ]
  },
  {
   "cell_type": "markdown",
   "metadata": {},
   "source": [
    "# Data anonymisation\n",
    "\n",
    "Now that the VAD models have detected the human speech in the audio files, we can use the resulting `.json` to anonymise the audio. In our case, the anonymisation script consists in removing those segments where human speech has been detected."
   ]
  },
  {
   "cell_type": "code",
   "execution_count": 17,
   "metadata": {},
   "outputs": [
    {
     "name": "stdout",
     "output_type": "stream",
     "text": [
      "Found 6 audio files with valid result file.\n",
      "../assets/demo_data/detections/json/ecoVAD/20210703_102300.json\n",
      "../assets/demo_data/detections/json/ecoVAD/20210703_103700.json\n",
      "../assets/demo_data/detections/json/ecoVAD/20210703_102900.json\n",
      "../assets/demo_data/detections/json/ecoVAD/20210703_102400.json\n",
      "../assets/demo_data/detections/json/ecoVAD/20210703_103800.json\n",
      "../assets/demo_data/detections/json/ecoVAD/20210703_103000.json\n"
     ]
    }
   ],
   "source": [
    "path_json_detections = \"../assets/demo_data/detections/json/ecoVAD\"\n",
    "\n",
    "from anonymise_data import parseFolders, audio_anonymisation\n",
    "\n",
    "parsed_folders = parseFolders(path_input_data, path_json_detections)\n",
    "\n",
    "# Anonymise the files\n",
    "for i in range(len(parsed_folders)):\n",
    "\n",
    "    afile = parsed_folders[i]['audio']\n",
    "    rfile = parsed_folders[i]['result']\n",
    "\n",
    "    audio_name = afile.split(\"/\")[-1].split(\".\")[0]\n",
    "    save_name = os.sep.join([path_anonymised_data, \"ANONYMISED_\" + audio_name])\n",
    "\n",
    "    anonymised_arr, sr = audio_anonymisation(rfile, afile)\n",
    "    soundfile.write(save_name + \".wav\", anonymised_arr, sr)\n",
    "    # Notebook result in an error but the files are anonymised \n",
    "    # The error does not occur with the main script"
   ]
  }
 ],
 "metadata": {
  "interpreter": {
   "hash": "d4d1e4263499bec80672ea0156c357c1ee493ec2b1c70f0acce89fc37c4a6abe"
  },
  "kernelspec": {
   "display_name": "Python 3.8.12 ('base')",
   "language": "python",
   "name": "python3"
  },
  "language_info": {
   "codemirror_mode": {
    "name": "ipython",
    "version": 3
   },
   "file_extension": ".py",
   "mimetype": "text/x-python",
   "name": "python",
   "nbconvert_exporter": "python",
   "pygments_lexer": "ipython3",
   "version": "3.8.13"
  },
  "orig_nbformat": 4
 },
 "nbformat": 4,
 "nbformat_minor": 2
}
